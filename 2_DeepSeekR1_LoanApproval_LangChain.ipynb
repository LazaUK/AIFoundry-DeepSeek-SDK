{
 "cells": [
  {
   "cell_type": "markdown",
   "metadata": {},
   "source": [
    "## DeepSeek R1 - Loan Approval\n",
    "Thorough analysis of a loan aproval request with Langchain orchestrator"
   ]
  },
  {
   "cell_type": "markdown",
   "metadata": {},
   "source": [
    "### Environment Setup"
   ]
  },
  {
   "cell_type": "code",
   "execution_count": 1,
   "metadata": {},
   "outputs": [],
   "source": [
    "# Importing required packages\n",
    "import os\n",
    "from azure.identity import DefaultAzureCredential\n",
    "from langchain_azure_ai.chat_models import AzureAIChatCompletionsModel\n",
    "from langchain.prompts import PromptTemplate"
   ]
  },
  {
   "cell_type": "code",
   "execution_count": 2,
   "metadata": {},
   "outputs": [],
   "source": [
    "# Defining model's endpoint and Azure credentials\n",
    "DS_Model = os.getenv(\"AZURE_FOUNDRY_DEEPSEEK\")\n",
    "DS_Region = \"eastus\"\n",
    "DS_Endpoint = f\"https://{DS_Model}.{DS_Region}.models.ai.azure.com\"\n",
    "\n",
    "Az_Credential = DefaultAzureCredential()"
   ]
  },
  {
   "cell_type": "markdown",
   "metadata": {},
   "source": [
    "### DeepSeek R1 Model"
   ]
  },
  {
   "cell_type": "code",
   "execution_count": 3,
   "metadata": {},
   "outputs": [],
   "source": [
    "# Initiating Azure AI Foundry client\n",
    "model = AzureAIChatCompletionsModel(\n",
    "    endpoint = DS_Endpoint,\n",
    "    credential = Az_Credential,\n",
    "    max_tokens = 2048\n",
    ")"
   ]
  },
  {
   "cell_type": "markdown",
   "metadata": {},
   "source": [
    "### Loan Approval Chain"
   ]
  },
  {
   "cell_type": "code",
   "execution_count": 4,
   "metadata": {},
   "outputs": [],
   "source": [
    "# Prompt template\n",
    "loan_approval_prompt = PromptTemplate(\n",
    "    input_variables = [\"applicant_info\"],\n",
    "    template = \"\"\"\n",
    "    You are a financial advisor at a bank.  You need to decide whether to approve a loan application.\n",
    "    Consider the following applicant information:\n",
    "\n",
    "    {applicant_info}\n",
    "\n",
    "    Provide your decision (approve or deny) AND a detailed explanation of your reasoning, including specific factors you considered and how they influenced your decision.  Be transparent and thorough, as this is for a regulated industry.\n",
    "    \"\"\"\n",
    ")"
   ]
  },
  {
   "cell_type": "code",
   "execution_count": 5,
   "metadata": {},
   "outputs": [],
   "source": [
    "# Defining the chain\n",
    "chain = loan_approval_prompt | model"
   ]
  },
  {
   "cell_type": "markdown",
   "metadata": {},
   "source": [
    "### Long-response Completion"
   ]
  },
  {
   "cell_type": "code",
   "execution_count": 6,
   "metadata": {},
   "outputs": [],
   "source": [
    "# Sample applicant\n",
    "applicant_info = \"\"\"\n",
    "Applicant Name: John Doe\n",
    "Credit Score: 680\n",
    "Loan Amount Requested: $10,000\n",
    "Annual Income: $60,000\n",
    "Employment History: Stable employment for 5 years\n",
    "Debt-to-Income Ratio: 0.35\n",
    "Loan Purpose: Home Renovation\n",
    "\"\"\""
   ]
  },
  {
   "cell_type": "code",
   "execution_count": 7,
   "metadata": {},
   "outputs": [
    {
     "name": "stdout",
     "output_type": "stream",
     "text": [
      "Response: <think>\n",
      "Okay, so I need to decide whether to approve John Doe's loan application. Let me start by looking at his details carefully.\n",
      "\n",
      "His credit score is 680. I know credit scores are categorized, and 680 is just below the \"good\" threshold, which is usually around 700. But different lenders have different standards. Maybe this bank considers 680 as acceptable with other compensating factors. \n",
      "\n",
      "He wants a $10,000 loan for home renovation. His annual income is $60k, which breaks down to about $5k a month. Debt-to-income ratio is 0.35, so 35%. That means his monthly debt payments are 35% of his income. Wait, the DTI here might be calculated as total monthly debts over monthly income. If his income is $5k/month, 35% DTI is $1,750 in monthly debt obligations. But is the new loan payment going to be added to that? Since the DTI is already 0.35, we need to check if adding the new loan won't push it over the bank's limit. Let's think: typical thresholds for DTI are around 36-43% for approval. If his current DTI is 35%, adding the new loan's monthly payment might bring it up. Need to calculate the new DTI.\n",
      "\n",
      "First, figure out the monthly payment on $10k. Assuming a 3-year loan term (since home renovation might be a medium-term loan), let's say 36 months. If the interest rate is, let's say, 7%, the monthly payment would be around $10,000*(0.07/12*(1+0.07/12)^36)/((1+0.07/12)^36 -1) → using loan payment formula. Alternatively, maybe use an online calculator for quick estimate. Alternatively, approximate. Let me compute that.\n",
      "\n",
      "Principal: $10,000\n",
      "Interest rate: 7% annual, so monthly is 0.07/12 ≈ 0.005833. \n",
      "Number of payments: 36.\n",
      "\n",
      "Monthly payment P = [Pv*r*(1+r)^n]/[(1+r)^n - 1]\n",
      "\n",
      "Pv = 10,000\n",
      "r = 0.005833\n",
      "n=36\n",
      "\n",
      "(1+r)^n = (1.005833)^36 ≈ let's compute that. Let's compute approximately: (1+0.005833)^36. Let me calculate ln(1.005833) ≈ 0.00581. Multiply by 36: 0.20916. Exponential of that is e^0.20916 ≈ 1.232. So denominator is 1.232 -1 = 0.232. Numerator: 0.005833 *1.232 ≈ 0.00719. So P ≈ (10,000 * 0.00719)/0.232 → 71.9 /0.232 ≈ $309.90 per month. So approximately $310 a month.\n",
      "\n",
      "Now, John's current DTI is 35%, which is $5,000 (monthly income) *0.35 = $1,750. If we add the new payment of $310, total debt would be $1,750 + $310 = $2,060. His DTI would then be $2,060 / $5,000 = 0.412 or 41.2%.\n",
      "\n",
      "Now, typical maximum DTI allowed is sometimes up to 43-45% for some loans, especially if he has a decent credit score. However, if the bank's policy is stricter, maybe 40% or 36%. The original DTI was 35%, pre-loan. Adding this would bring it up to 41.2%, which might be over some thresholds.\n",
      "\n",
      "But he has a credit score of 680. If the bank's cutoff is lower, maybe they use 36% or 40%. Assuming in-house policy allows up to 43%, then 41% might still be acceptable. However, this depends on the bank's guidelines. Also, considering he's been employed for 5 years, stable history. The purpose is home renovation, which is a sound purpose (could increase home value), so lower risk.\n",
      "\n",
      "Another factor: loan amount vs income. $10k loan request on a $60k income. The loan is 16.67% of his annual income, which is moderate. Not too high.\n",
      "\n",
      "His credit score is 680. Some lenders might see this as subprime or near-prime. The interest rate offered might be higher to account for risk. But the key is default risk. With stable employment and a good payment history (assuming his credit report doesn't have major delinquencies), despite the credit score, he could still be a good candidate.\n",
      "\n",
      "Possibly, his credit score is 680 due to high utilization or past late payments. But if there are no recent issues and he's maintained stable employment, maybe the risk is manageable.\n",
      "\n",
      "Looking at credit factors: credit score, DTI, employment, loan purpose. \n",
      "\n",
      "Conclusion: If the DTI post-loan is acceptable, and the credit score is within bank's tolerance, then approve. But considering his DTI would jump to 41.2%, which is high but not over the standard 43%. However, some institutions might have stricter DTI limits, especially for lower credit scores.\n",
      "\n",
      "Alternative approach: maybe split into factors. Credit history (score 680), which is fair. Employment stability (5 years) is strong. Purpose is good. DTI after loan would be ~41.2%. If the bank allows DTI up to 45% for this score, then it's okay. If their policy is 40% for scores below 700, 41.2% would push it. Alternatively, if the existing DTI calculation already includes this new loan for the consideration, but in the given info here, his existing DTI is 0.35, so they must be calculating existing debts without the new loan. So adding the new loan's payment is required for DTI. \n",
      "\n",
      "I think a regulated bank would have set thresholds. Assuming they allow DTI up to 43% for approved loans, then John's DTI of 41.2% passes. But if they have stricter guidelines, like DTI <=40% for his credit tier, then he's over. Let's say standard thresholds: some lenders use front-end (housing only) and back-end (all debts) ratios. For conventional loans, back-end DTI typically up to 43% for Fannie Mae, etc. But this is a personal loan, not a mortgage. So maybe the bank allows up to 40% DTI for personal loans. Then the 41.2% is over. But since his credit score is 680, which is borderline. Without knowing the exact internal policies, perhaps as a financial advisor, if the bank's general criteria for personal loans are:\n",
      "\n",
      "- Credit score minimum 650\n",
      "- DTI including new loan <=45%\n",
      "- Loan amount reasonable relative to income\n",
      "\n",
      "If those are the criteria, then 41.2% DTI would be okay. But if, for FIs, the DTI maximum is 40% for credit scores between 660-700, then his DTI is over. But sometimes, compensating factors can outweigh a slightly higher DTI. His stable employment history (5 years) and purpose (home improvement, which is an asset) can be compensating factors.\n",
      "\n",
      "Also, the credit score of 680 isn't terrible. Maybe it's a result of a past issue that's now resolved. The credit report would be needed to check for recent delinquencies. If the score is 680 but with no recent negative marks, then it's better.\n",
      "\n",
      "Another angle: compare the loan amount to income. $10k is manageable with $60k income, and the purpose is a sensible investment (home renovation can add value to the property). Also, stable employment reduces risk of income loss.\n",
      "\n",
      "But the DTI is critical here. Since after the loan, it's 41%. If the bank's policy is strict at 40%, then denial. However, some flexibility might apply with compensating factors. The decision is balancing risk factors.\n",
      "\n",
      "We might need to check policies. Let me think as the advisor. In a bank setting, for personal loans, typical factors:\n",
      "\n",
      "1. Credit Score: 680 is acceptable (if bank's cutoff is, say, 670). If 680 is above their threshold, good. Credit score indicates some risk, but not high.\n",
      "\n",
      "2. DTI after loan: 41.2%. If their maximum allowed is, say, 43%, then okay. If 40%, they might require a waiver.\n",
      "\n",
      "3. Employment stability: 5 years is strong.\n",
      "\n",
      "4. Purpose: Home renovation is positive (asset improvement), maybe lower risk compared to other purposes.\n",
      "\n",
      "5. Credit history: Assuming no recent defaults or delinquencies (since employment is stable), which could be a plus.\n",
      "\n",
      "Considering all these, his strong employment history and the loan purpose may compensate for the higher DTI and moderate credit score. Therefore, the decision might be approve with caution, mentioning that despite DTI being above average, other factors mitigate the risk.\n",
      "\n",
      "Alternatively, if the bank strictly enforces a DTI ceiling of 40%, the revised DTI of 41.2% would require denial. However, if the policy allows exceptions with strong compensating factors, like stable job and good loan purpose, maybe approve.\n",
      "\n",
      "But since it's a regulated industry, transparency is crucial. Need to clearly state which factors met criteria and which were considered with exceptions. The answer should balance all elements.\n",
      "</think>\n",
      "\n",
      "**Decision: Approve**\n",
      "\n",
      "**Detailed Explanation:**\n",
      "\n",
      "After a thorough evaluation of John Doe's loan application, the decision to approve the $10,000 loan for home renovation is based on the following factors:\n",
      "\n",
      "1. **Credit Score (680):**\n",
      "----------------------------------------\n",
      "Usage:\n",
      "\tPrompt tokens: 140\n",
      "\tCompletion tokens: 2048\n",
      "\tTotal tokens: 2188\n"
     ]
    }
   ],
   "source": [
    "# Getting decision and explanation\n",
    "response = chain.invoke(applicant_info)\n",
    "\n",
    "print(\"Response:\", response.content)\n",
    "print(\"----------------------------------------\")\n",
    "print(\"Usage:\")\n",
    "print(\"\\tPrompt tokens:\", response.usage_metadata[\"input_tokens\"])\n",
    "print(\"\\tCompletion tokens:\", response.usage_metadata[\"output_tokens\"])\n",
    "print(\"\\tTotal tokens:\", response.usage_metadata[\"total_tokens\"])"
   ]
  },
  {
   "cell_type": "markdown",
   "metadata": {},
   "source": [
    "### Streaming Completion"
   ]
  },
  {
   "cell_type": "code",
   "execution_count": 8,
   "metadata": {},
   "outputs": [
    {
     "name": "stdout",
     "output_type": "stream",
     "text": [
      "<think>\n",
      "Okay, so I'm trying to decide whether to approve or deny John Doe's loan application. Let's start by going through all the information given. His credit score is 680, which I know is near the lower end of what's considered \"fair.\" Sometimes lenders look for a higher score, maybe 700 or above, for the best rates, but 680 isn't terrible. The loan amount he's asking for is $10,000. His annual income is $60k. Let me calculate his monthly income, which would be $60,000 divided by 12, so $5,000 per month.\n",
      "\n",
      "The employment history is stable—he's been at his job for five years. That's a good sign because it shows consistency. Debt-to-income ratio is 0.35, which is 35%. I remember that lenders usually prefer a DTI below 36%, so this is right on the edge. If it goes over, that might be a red flag, but 35% is acceptable, though a bit high.\n",
      "\n",
      "The purpose of the loan is home renovation. That's generally a positive reason because it can add value to the property, which is collateral if it's a secured loan. Although here, I don't see if the loan is secured or not. Maybe the bank's policy requires collateral for home renovation loans? Not sure.\n",
      "\n",
      "His credit score of 680—why is it that number? Maybe he had some late payments in the past, but recently he's been okay. If his credit history shows recent improvements, that might help. But 680 might lead to a higher interest rate if approved.\n",
      "\n",
      "Looking at the loan amount versus his income, $10,000 is manageable if his income is $60k. The DTI is 35%, which includes his existing debts plus the new loan. Wait, does the 35% DTI already include this new loan, or is that his current DTI without the loan? The application says \"Debt-to-Income Ratio: 0.35\"—probably current DTI without the new loan. So adding the new loan payment would increase his DTI.\n",
      "\n",
      "But how much would the new loan add? Let's see. If the loan is $10,000, let's assume a term—maybe 3 years (36 months). At, say, 7% interest, the monthly payment would be around $308. His current monthly debt payments are 35% of his $5,000 income, which is $1,750. Adding $308 would take his total debt payments to $1,750 + $308 = $2,058. Then, his new DTI would be $2,058 / $5,000 = 0.4116 or 41.16%, which exceeds the 36% threshold. Oh, that's a problem. But wait, maybe the DTI here is calculated differently. Some lenders use front-end ratios (just housing) vs. back-end (all debts). If this DTI is a back-end ratio, going from 35% to over 40% might be concerning.\n",
      "\n",
      "But maybe the bank's policy allows some exceptions. His employment is stable, which could offset some risk. Also, the loan purpose is home renovation, which could be considered an investment in an asset, thus lower risk. If the bank requires collateral, like a lien on the house, that might secure the loan better. However, if it's an unsecured personal loan, the risk is higher.\n",
      "\n",
      "Another factor is the credit score: 680 is borderline. Some banks might approve this, especially if other factors are strong. The employment history is a plus. The stable income over five years supports his ability to repay.\n",
      "\n",
      "I think I need to balance these factors. His DTI without the loan is 35%, which is already high but acceptable. Adding the loan would push it over. However, depending on the term of the loan, maybe a longer term could lower the monthly payment. Wait, if the term is longer, like 5 years, the monthly payment would be lower. Let's calculate that. $10,000 over 5 years (60 months) at 7% is about $198 per month. Then his new total debt would be $1,750 + $198 = $1,948, which is 38.96% DTI. Still over 36%, but maybe the bank's threshold is up to 40% or considers compensating factors.\n",
      "\n",
      "Alternatively, maybe his DTI of 35% already includes all current debts, and the new loan would be added. If the bank's maximum allowed DTI is, say, 40%, then 35% existing plus the new loan's 7% (for example) would bring it to 42%, which might be denied. But if the policy allows up to 45%, perhaps approve with conditions.\n",
      "\n",
      "But since I don't know the exact bank's policies, I'll need to make assumptions. Also regulated industry requires transparency, so in the explanation, I need to clearly state the factors. His credit\n",
      "... (Stopping stream after 1000 words)\n"
     ]
    }
   ],
   "source": [
    "# Streaming the chain - first 1000 words only\n",
    "response = chain.stream(applicant_info)\n",
    "\n",
    "max_words_to_display = 1000\n",
    "words_displayed = 0\n",
    "\n",
    "for chunk in response:\n",
    "    words_in_chunk = len(chunk.content.split())\n",
    "    if words_displayed + words_in_chunk > max_words_to_display:\n",
    "        print(\"\\n... (Stopping stream after 1000 words)\")\n",
    "        break\n",
    "    \n",
    "    print(chunk.content, end=\"\", flush=True)\n",
    "    words_displayed += words_in_chunk"
   ]
  }
 ],
 "metadata": {
  "kernelspec": {
   "display_name": "Python 3",
   "language": "python",
   "name": "python3"
  },
  "language_info": {
   "codemirror_mode": {
    "name": "ipython",
    "version": 3
   },
   "file_extension": ".py",
   "mimetype": "text/x-python",
   "name": "python",
   "nbconvert_exporter": "python",
   "pygments_lexer": "ipython3",
   "version": "3.11.9"
  }
 },
 "nbformat": 4,
 "nbformat_minor": 2
}
