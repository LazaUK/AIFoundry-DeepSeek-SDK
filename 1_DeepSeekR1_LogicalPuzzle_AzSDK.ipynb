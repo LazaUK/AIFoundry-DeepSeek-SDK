{
 "cells": [
  {
   "cell_type": "markdown",
   "metadata": {},
   "source": [
    "## DeepSeek R1 - Logical Puzzle\n",
    "Resolving logical puzzle with the model's access through Azure AI SDK"
   ]
  },
  {
   "cell_type": "markdown",
   "metadata": {},
   "source": [
    "### Environment Setup"
   ]
  },
  {
   "cell_type": "code",
   "execution_count": 1,
   "metadata": {},
   "outputs": [],
   "source": [
    "# Importing required packages\n",
    "import os\n",
    "from azure.ai.inference import ChatCompletionsClient\n",
    "from azure.ai.inference.models import SystemMessage, UserMessage\n",
    "from azure.identity import DefaultAzureCredential"
   ]
  },
  {
   "cell_type": "code",
   "execution_count": 2,
   "metadata": {},
   "outputs": [],
   "source": [
    "# Defining model's endpoint and Azure credentials\n",
    "DS_Model = os.getenv(\"AZURE_FOUNDRY_DEEPSEEK\")\n",
    "DS_Region = \"eastus\"\n",
    "DS_Endpoint = f\"https://{DS_Model}.{DS_Region}.models.ai.azure.com\"\n",
    "\n",
    "Az_Credential = DefaultAzureCredential()"
   ]
  },
  {
   "cell_type": "code",
   "execution_count": null,
   "metadata": {},
   "outputs": [],
   "source": [
    "# Defining system and user messages\n",
    "System_Message = SystemMessage(\n",
    "    content = \"You are a helpful assistant skilled in solving logic puzzles.\"\n",
    ")\n",
    "\n",
    "User_Message = UserMessage(\n",
    "    content = \"Alice, Bob and Carol each have a different favourite colour: red, blue or green. Alice doesn't like red. Bob's favourite colour is not blue. Carol's favourite colour is red. What is each person's favourite colour? Explain your reasoning step by step.\"\n",
    ")"
   ]
  },
  {
   "cell_type": "code",
   "execution_count": 4,
   "metadata": {},
   "outputs": [],
   "source": [
    "# Helper function to print streaming chat completion\n",
    "def print_stream(result):\n",
    "    for update in result:\n",
    "        if update.choices:\n",
    "            print(update.choices[0].delta.content, end=\"\", flush=True)"
   ]
  },
  {
   "cell_type": "markdown",
   "metadata": {},
   "source": [
    "### DeepSeek R1 Model"
   ]
  },
  {
   "cell_type": "code",
   "execution_count": 5,
   "metadata": {},
   "outputs": [],
   "source": [
    "# Initiating Azure AI Foundry client\n",
    "client = ChatCompletionsClient(\n",
    "    endpoint = DS_Endpoint,\n",
    "    credential = Az_Credential\n",
    ")"
   ]
  },
  {
   "cell_type": "code",
   "execution_count": 6,
   "metadata": {},
   "outputs": [
    {
     "name": "stdout",
     "output_type": "stream",
     "text": [
      "Model name: DeepSeek-R1\n",
      "Model type: chat-completion\n",
      "Model provider name: DeepSeek\n"
     ]
    }
   ],
   "source": [
    "# Verifying the model details\n",
    "model_info = client.get_model_info()\n",
    "print(\"Model name:\", model_info.model_name)\n",
    "print(\"Model type:\", model_info.model_type)\n",
    "print(\"Model provider name:\", model_info.model_provider_name)"
   ]
  },
  {
   "cell_type": "markdown",
   "metadata": {},
   "source": [
    "### Long-response Completion"
   ]
  },
  {
   "cell_type": "code",
   "execution_count": 7,
   "metadata": {},
   "outputs": [
    {
     "name": "stdout",
     "output_type": "stream",
     "text": [
      "Response: <think>\n",
      "Okay, let me try to figure this out step by step. So we have three people: Alice, Bob, and Carol. Each of them has a favorite color, which are red, blue, and green. No two people share the same favorite color. The problem gives us some clues, so I need to break them down one by one and see how they fit together.\n",
      "\n",
      "First, let's list out the people and the colors again to keep track:\n",
      "\n",
      "People: Alice, Bob, Carol.\n",
      "\n",
      "Colors: Red, Blue, Green.\n",
      "\n",
      "Each person has a unique color. Now, let's look at the clues provided.\n",
      "\n",
      "1. Alice doesn't like red. So Alice's favorite color can't be red. That means her favorite has to be either blue or green. We'll note that down: Alice ≠ Red.\n",
      "\n",
      "2. Bob's favorite color is not blue. So Bob doesn't like blue, which leaves him with red or green. So Bob ≠ Blue.\n",
      "\n",
      "3. Carol's favorite color is red. So Carol = Red. That's straightforward. So Carol is definitely red. That means the other two (Alice and Bob) can't have red as their favorite. Which also affects our previous notes. Wait, because originally, we were told that Alice doesn't like red, but Carol already took red. So actually, since Carol is red, that automatically makes the other two (Alice and Bob) have to choose between blue and green. But Bob's favorite isn't blue from clue 2, so Bob must choose green. Then Alice is left with blue. Wait, is that correct? Let me check again.\n",
      "\n",
      "Wait, let's lay this out systematically. Let me start by assigning Carol first because that's the most direct clue. Carol = Red. So that's fixed. Now, the remaining colors are blue and green, which need to be assigned to Alice and Bob.\n",
      "\n",
      "Alice's clue says she doesn't like red, but since Carol is already red, we know Alice can't be red anyway. But the clue is still useful because if Carol wasn't given, maybe Alice could have been another color, but in this case, Carol's assignment of red just reinforces that. So Alice has to choose between blue and green.\n",
      "\n",
      "Now, Bob's clue is that his favorite isn't blue. So Bob must be either red or green. But wait, since Carol is red, Bob can't be red. So Bob's only option is green. That leaves Alice with blue. So Alice = Blue, Bob = Green, Carol = Red.\n",
      "\n",
      "Wait a minute, let's double-check. Let's make a table to ensure we don't make any mistakes.\n",
      "\n",
      "| Person | Possible Colors | Clues                |\n",
      "|--------|-----------------|----------------------|\n",
      "| Alice  | Red, Blue, Green| Not Red              |\n",
      "| Bob    | Red, Blue, Green| Not Blue             |\n",
      "| Carol  | Red             | Carol's favorite is Red |\n",
      "\n",
      "But since Carol is Red, that color is taken, so Alice and Bob can't be red. So Alice's possibilities are Blue and Green, and Bob's possibilities are Red (but already taken by Carol) and Green. But Bob can't be Blue from clue 2, right? So Bob can't be Blue, but since Carol is Red, the only remaining colors are Blue and Green. But Bob's clue says not Blue, so Bob must be Green. Therefore, Alice must be Blue. Let me verify:\n",
      "\n",
      "- Carol: Red (as given)\n",
      "- Bob: Green (since he can't be Blue, and Red is taken)\n",
      "- Alice: Blue (the only remaining color)\n",
      "\n",
      "Does any of the clues contradict this? Let's check:\n",
      "\n",
      "1. Alice doesn't like red. Correct, she's blue.\n",
      "2. Bob's color isn't blue. Correct, he's green.\n",
      "3. Carol is red. Correct.\n",
      "\n",
      "Everything seems to fit. I don't see any contradictions here. So the solution should be Alice likes blue, Bob likes green, and Carol likes red.\n",
      "</think>\n",
      "\n",
      "Let's break down the solution step by step:\n",
      "\n",
      "1. **Carol's Favorite**: The clue directly states Carol's favorite color is **red**.  \n",
      "   → *Carol = Red*\n",
      "\n",
      "2. **Alice's Options**: Alice doesn't like red. Since Carol is already red, Alice must choose between **blue** or **green**.  \n",
      "   → *Alice ≠ Red → Alice = Blue/Green*\n",
      "\n",
      "3. **Bob's Constraints**: Bob’s favorite isn’t blue. With red already taken by Carol, Bob must be **green** (the only remaining option).  \n",
      "   → *Bob ≠ Blue → Bob = Green*\n",
      "\n",
      "4. **Alice’s Assignement**: With blue and green left, and Bob assigned green, Alice defaults to **blue**.  \n",
      "   → *Alice = Blue*\n",
      "\n",
      "**Final Answer**:  \n",
      "- Alice’s favorite color is **blue**.  \n",
      "- Bob’s favorite color is **green**.  \n",
      "- Carol’s favorite color is **red**.  \n",
      "\n",
      "This satisfies all given conditions without contradictions.\n",
      "----------------------------------------\n",
      "Usage:\n",
      "\tPrompt tokens: 71\n",
      "\tCompletion tokens: 1032\n",
      "\tTotal tokens: 1103\n"
     ]
    }
   ],
   "source": [
    "# Generating a completion\n",
    "response = client.complete(\n",
    "    messages = [\n",
    "        System_Message,\n",
    "        User_Message,\n",
    "    ],\n",
    "    max_tokens = 2048\n",
    ")\n",
    "\n",
    "print(\"Response:\", response.choices[0].message.content)\n",
    "print(\"----------------------------------------\")\n",
    "print(\"Usage:\")\n",
    "print(\"\\tPrompt tokens:\", response.usage.prompt_tokens)\n",
    "print(\"\\tCompletion tokens:\", response.usage.completion_tokens)\n",
    "print(\"\\tTotal tokens:\", response.usage.total_tokens)"
   ]
  },
  {
   "cell_type": "markdown",
   "metadata": {},
   "source": [
    "### Streaming Completion"
   ]
  },
  {
   "cell_type": "code",
   "execution_count": 8,
   "metadata": {},
   "outputs": [
    {
     "name": "stdout",
     "output_type": "stream",
     "text": [
      "<think>\n",
      "Okay, let's try to solve this logic puzzle. Let me start by summarizing the information given. There are three people: Alice, Bob, and Carol. Each has a favorite color among red, blue, or green, and all their favorite colors are different. \n",
      "\n",
      "The clues provided are:\n",
      "1. Alice doesn't like red.\n",
      "2. Bob's favorite color is not blue.\n",
      "3. Carol's favorite color is red.\n",
      "\n",
      "Alright, let me break this down step by step. First, Carol's favorite color is given directly as red. So Carol = red. That's straightforward. Now, since each person's favorite color is different, we can eliminate red from the possibilities for Alice and Bob.\n",
      "\n",
      "So, the available colors now for Alice and Bob are blue and green. But let's check the other clues.\n",
      "\n",
      "Next, Alice doesn't like red. But we already know Carol likes red, so that clue might be redundant, but it's good to confirm. So Alice's options are blue or green.\n",
      "\n",
      "Then, Bob's favorite color isn't blue. Since Bob can't choose red (already taken by Carol), his options are blue or green, but he can't pick blue. Therefore, Bob must like green. That leaves Alice with the remaining color, which is blue. Wait, but let me check again. Let's make a table or something to visualize.\n",
      "\n",
      "People: Alice, Bob, Carol\n",
      "Colors: red, blue, green.\n",
      "Carol -> red (from clue 3).\n",
      "So remaining colors are blue and green for Alice and Bob.\n",
      "\n",
      "Alice can't be red, which she's not anyway. Bob can't choose blue (clue 2), so Bob must be green. Then Alice must be blue. Let's see if this fits all conditions:\n",
      "\n",
      "- Alice: blue (correct, not red)\n",
      "- Bob: green (which isn't blue, fits clue 2)\n",
      "- Carol: red (fits clue 3)\n",
      "And all colors are distinct. Yep, that seems right.\n",
      "</think>\n",
      "\n",
      "Let's solve the puzzle step by step:\n",
      "\n",
      "1. **Carol's Color**: The third clue directly states Carol's favorite color is red.   \n",
      "   ➔ Carol = Red\n",
      "\n",
      "2. **Alice's Color**: Alice can't like red (clue 1). Since Carol already has red, Alice’s options are **blue** or **green**.\n",
      "\n",
      "3. **Bob's Color**: Bob doesn’t favor blue (clue 2). With red unavailable (Carol’s color), Bob’s only remaining option is **green**.  \n",
      "   ➔ Bob = Green\n",
      "\n",
      "4. **Assign Remaining Color**: The only color left for Alice is **blue**.  \n",
      "   ➔ Alice = Blue\n",
      "\n",
      "**Final Answer**:\n",
      "- **Alice**: Blue  \n",
      "- **Bob**: Green  \n",
      "- **Carol**: Red  \n",
      "\n",
      "All conditions are satisfied:  \n",
      "- Alice avoids red.  \n",
      "- Bob doesn’t choose blue.  \n",
      "- Carol has red.  \n",
      "- All colors are distinct."
     ]
    }
   ],
   "source": [
    "# Generating a completion\n",
    "response = client.complete(\n",
    "    messages = [\n",
    "        System_Message,\n",
    "        User_Message,\n",
    "    ],\n",
    "    max_tokens = 2048,\n",
    "    stream = True\n",
    ")\n",
    "\n",
    "print_stream(response)"
   ]
  }
 ],
 "metadata": {
  "kernelspec": {
   "display_name": "Python 3",
   "language": "python",
   "name": "python3"
  },
  "language_info": {
   "codemirror_mode": {
    "name": "ipython",
    "version": 3
   },
   "file_extension": ".py",
   "mimetype": "text/x-python",
   "name": "python",
   "nbconvert_exporter": "python",
   "pygments_lexer": "ipython3",
   "version": "3.11.9"
  }
 },
 "nbformat": 4,
 "nbformat_minor": 2
}
