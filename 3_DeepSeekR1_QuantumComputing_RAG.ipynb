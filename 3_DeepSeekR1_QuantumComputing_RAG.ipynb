{
 "cells": [
  {
   "cell_type": "markdown",
   "metadata": {},
   "source": [
    "## DeepSeek R1 - Quantum Computing\n",
    "Review of quantum computing challenges with Arxiv Retriever and Langchain orchestrator"
   ]
  },
  {
   "cell_type": "markdown",
   "metadata": {},
   "source": [
    "### Environment Setup"
   ]
  },
  {
   "cell_type": "code",
   "execution_count": 1,
   "metadata": {},
   "outputs": [],
   "source": [
    "# Importing required packages\n",
    "import os\n",
    "from azure.identity import DefaultAzureCredential\n",
    "from langchain_azure_ai.chat_models import AzureAIChatCompletionsModel\n",
    "from langchain_community.retrievers import ArxivRetriever\n",
    "from langchain.prompts import PromptTemplate"
   ]
  },
  {
   "cell_type": "code",
   "execution_count": 2,
   "metadata": {},
   "outputs": [],
   "source": [
    "# Defining model's endpoint and Azure credentials\n",
    "DS_Model = os.getenv(\"AZURE_FOUNDRY_DEEPSEEK\")\n",
    "DS_Region = \"eastus\"\n",
    "DS_Endpoint = f\"https://{DS_Model}.{DS_Region}.models.ai.azure.com\"\n",
    "\n",
    "Az_Credential = DefaultAzureCredential()"
   ]
  },
  {
   "cell_type": "markdown",
   "metadata": {},
   "source": [
    "### DeepSeek R1 Model"
   ]
  },
  {
   "cell_type": "code",
   "execution_count": 3,
   "metadata": {},
   "outputs": [],
   "source": [
    "# Initiating Azure AI Foundry client\n",
    "model = AzureAIChatCompletionsModel(\n",
    "    endpoint = DS_Endpoint,\n",
    "    credential = Az_Credential,\n",
    "    max_tokens = 2048\n",
    ")"
   ]
  },
  {
   "cell_type": "markdown",
   "metadata": {},
   "source": [
    "### Arxiv Retriever"
   ]
  },
  {
   "cell_type": "code",
   "execution_count": 4,
   "metadata": {},
   "outputs": [],
   "source": [
    "# Initiliaisng Arxiv Retriever\n",
    "arxiv_retriever = ArxivRetriever(\n",
    "    load_max_docs=2,\n",
    "    get_ful_documents=True,\n",
    ")"
   ]
  },
  {
   "cell_type": "markdown",
   "metadata": {},
   "source": [
    "### Query Chain"
   ]
  },
  {
   "cell_type": "code",
   "execution_count": 5,
   "metadata": {},
   "outputs": [],
   "source": [
    "# Prompt template\n",
    "prompt_template = PromptTemplate(\n",
    "    input_variables = [\"query\", \"relevant_info\"],\n",
    "    template = \"\"\"\n",
    "    You are an expert scientific researcher. Use the following information from arXiv to answer the user's question. If there is no sufficient information, say 'I need more information to answer this question'.\n",
    "\n",
    "    Question: {query}\n",
    "\n",
    "    Relevant Information:\n",
    "    {relevant_info}\n",
    "\n",
    "    Answer:\n",
    "    \"\"\"\n",
    ")"
   ]
  },
  {
   "cell_type": "code",
   "execution_count": 6,
   "metadata": {},
   "outputs": [],
   "source": [
    "# Defining the chain\n",
    "chain = prompt_template | model"
   ]
  },
  {
   "cell_type": "markdown",
   "metadata": {},
   "source": [
    "### Long-response Completion"
   ]
  },
  {
   "cell_type": "code",
   "execution_count": 7,
   "metadata": {},
   "outputs": [],
   "source": [
    "# Sample Arxiv query\n",
    "query = \"Summarise the key challenges in quantum computing research.\""
   ]
  },
  {
   "cell_type": "code",
   "execution_count": 8,
   "metadata": {},
   "outputs": [
    {
     "name": "stdout",
     "output_type": "stream",
     "text": [
      "Response: <think>\n",
      "Okay, let's tackle this question. The user wants a summary of the key challenges in quantum computing research, based on the provided arXiv information.\n",
      "\n",
      "First, I'll parse through the given information. The first two sections are about lay summarization and automated summarization systems in biomedical research. They mention challenges like token length limits in transformer models, memory and compute requirements for long texts, dataset limitations, and the need for hybrid methods combining extractive and abstractive approaches. But these seem to be about the summarization tasks themselves, not directly about quantum computing challenges.\n",
      "\n",
      "Then there's the third section about quantum information technologies. It states that quantum computing has significant ethical consequences due to its unique features. The main points here are the lack of structured research into ethical implications, the need for ethical analysis considering quantum-specific features, and how quantum technologies introduce ethical challenges in fairness and distributional impacts. They mention situating quantum ethics at the intersection of quantum science, technology ethics, and philosophy, and the example of ethical consequences in quantum machine learning.\n",
      "\n",
      "So, from the relevant info, the challenges in quantum computing research are primarily ethical in nature. The key points would be:\n",
      "\n",
      "1. Lack of structured research into ethical implications.\n",
      "2. Need to address unique ethical consequences arising from quantum features (like superposition, entanglement) that affect fairness and constraints.\n",
      "3. Normative and distributional ethical challenges specific to quantum technologies.\n",
      "4. Interdisciplinary research required between quantum science, ethics, and philosophy.\n",
      "5. Potential ethical issues in applications like quantum machine learning.\n",
      "\n",
      "The technical challenges mentioned in the summarization sections don't directly relate to quantum computing's research challenges unless the user's question conflates summarization challenges with quantum ones. But since the user specifically asks about quantum computing research, the relevant info is the third section. The answer should focus on the ethical challenges outlined there. I should check if there's any mention of technical challenges (like error correction, qubit stability) in the provided info, but looking through the text, there's no mention of technical aspects—only ethical ones. So, the answer should focus on the ethical and interdisciplinary challenges highlighted.\n",
      "</think>\n",
      "\n",
      "The key challenges in quantum computing research highlighted in the provided information primarily revolve around **ethical and interdisciplinary considerations**, rather than technical hardware or algorithmic issues. These challenges include:  \n",
      "\n",
      "1. **Ethical Implications**: The unique features of quantum information processing (e.g., superposition, entanglement) raise distinct ethical concerns, such as fairness in computation and distributional impacts of quantum technologies. Structured research into these ethical consequences is still nascent.  \n",
      "\n",
      "2. **Interdisciplinary Gaps**: There is a need to bridge quantum information science, technology ethics, and moral philosophy to address ethical challenges systematically. This includes developing taxonomies and frameworks for ethical analysis tailored to quantum computing.  \n",
      "\n",
      "3. **Normative Challenges**: Quantum technologies, particularly in applications like quantum machine learning, introduce novel normative dilemmas (e.g., how to impose ethical constraints on inherently probabilistic quantum systems).  \n",
      "\n",
      "4. **Societal Impact**: The paradigm-shifting computational capacity of quantum computing necessitates proactive assessment of its societal consequences, such as inequitable access to quantum advantages or misuse of quantum-enabled capabilities.  \n",
      "\n",
      "The information provided does not discuss technical challenges (e.g., error correction, qubit stability), focusing instead on ethical and cross-disciplinary research gaps as the primary hurdles. Further details would require additional technical or scientific context.\n",
      "----------------------------------------\n",
      "Usage:\n",
      "\tPrompt tokens: 842\n",
      "\tCompletion tokens: 685\n",
      "\tTotal tokens: 1527\n"
     ]
    }
   ],
   "source": [
    "# Analysing Arxiv research papers\n",
    "try:\n",
    "    relevant_papers = arxiv_retriever.invoke(query)\n",
    "    relevant_info = \"\\n\".join([paper.page_content for paper in relevant_papers])\n",
    "    response = chain.invoke({\"query\": query, \"relevant_info\": relevant_info})\n",
    "    print(\"Response:\", response.content)\n",
    "    print(\"----------------------------------------\")\n",
    "    print(\"Usage:\")\n",
    "    print(\"\\tPrompt tokens:\", response.usage_metadata[\"input_tokens\"])\n",
    "    print(\"\\tCompletion tokens:\", response.usage_metadata[\"output_tokens\"])\n",
    "    print(\"\\tTotal tokens:\", response.usage_metadata[\"total_tokens\"])\n",
    "\n",
    "except Exception as e:\n",
    "    print(f\"Error processing Arxiv query: {e}\")\n"
   ]
  },
  {
   "cell_type": "markdown",
   "metadata": {},
   "source": [
    "### Streaming Completion"
   ]
  },
  {
   "cell_type": "code",
   "execution_count": 9,
   "metadata": {},
   "outputs": [
    {
     "name": "stdout",
     "output_type": "stream",
     "text": [
      "<think>\n",
      "Okay, the user is asking for a summary of the key challenges in quantum computing research, using the provided arXiv information. Let's start by going through the relevant information thoroughly.\n",
      "\n",
      "First, the provided text has three main sections. The first talks about lay summarisation in biomedical articles, which seems more about making scientific papers accessible. The second discusses automated summarisation systems for research papers, mentioning challenges like token limits in models and memory requirements. The third section is about quantum information technologies, focusing on ethical implications and the lack of structured research in that area.\n",
      "\n",
      "The user's question is about quantum computing challenges. The third section is the most relevant here. It mentions that quantum technologies (computing, communication, sensing) have significant ethical consequences but there's little structured research on their ethical implications. The paper proposes a roadmap for ethical quantum computing, highlighting unique features of quantum info processing leading to distinct ethical issues. It also talks about situating quantum ethics at the intersection of quantum science, tech ethics, and philosophy, with examples of normative and distributional challenges.\n",
      "\n",
      "So, the key challenges mentioned here are the ethical implications. The technical challenges in quantum computing itself, like error rates, qubit coherence, scalability, aren't addressed in the provided info. The other sections discuss summarisation challenges, but those are about scientific papers in general, not specific to quantum computing. The quantum section focuses on ethics. But since the user is asking about quantum computing research challenges, the answer should focus on the ethical challenges outlined here. However, maybe there's more. Let me check again.\n",
      "\n",
      "Wait, the third part does say \"technical level, unique features of quantum information processing have consequences for fairness and ethical constraints\". But the main emphasis is on the ethical aspects. The paper's contribution is setting up a framework for ethical analysis. So from the given info, the key challenges are the ethical implications, lack of structured research in ethics, and integrating ethical considerations into quantum tech development. Also, it mentions distributional and normative ethical challenges, and the need for cross-disciplinary research between quantum science, ethics, and philosophy.\n",
      "\n",
      "There's no mention of technical challenges like error correction, qubit stability, etc., which are common in quantum computing. But based on the provided text, the answer should only include what's present. So the main challenges here are the ethical ones. But the user asked for key challenges in quantum computing research. Maybe the answer is that the provided info focuses on ethical challenges, but more information is needed for technical challenges. Wait, let me check the user's question again. They want a summary of key challenges in quantum computing research using the provided information. The third section explicitly mentions \"key challenges\" in the context of ethics, but the answer needs to be based solely on the provided text.\n",
      "\n",
      "So the answer should highlight the ethical challenges, the lack of structured research on ethics, and the need for cross-disciplinary approaches. However, if the user expects technical challenges (like error rates, scalability), but those aren't mentioned here. The given info doesn't cover them. So, according to the provided information, the key challenges are in the ethical domain. But since the user asked generally about quantum computing research challenges, and the provided info only talks about ethical aspects, maybe the answer should focus on that. The user might not be aware that the provided info is limited. So according to the instructions, if the info is insufficient, say so, but in this case, the info does talk about challenges (ethical ones), so it's sufficient for that part. The answer should summarize those. Let me structure the answer:\n",
      "\n",
      "The main challenges according to the given data are the ethical implications of quantum computing. Unique features of quantum info processing lead to distinct ethical consequences not seen in classical systems, such as fairness in computation and ethical constraints. There's a lack of structured research into these ethical issues, necessitating a cross-disciplinary approach combining quantum science, tech ethics, and philosophy. Specific examples include normative (what is right/wrong) and distributional (fair distribution of benefits/risks) ethical challenges. Additionally, the need for developing ethical frameworks and understanding societal impacts are highlighted as key challenges. \n",
      "\n",
      "Since the other sections discuss summarisation challenges but are unrelated to quantum computing, they are not relevant here. The answer should stick to the quantum-related info. The user might be expecting technical challenges, but based on the provided text, the focus is on ethics. So the answer must be based on that.\n",
      "</think>\n",
      "\n",
      "The key challenges in quantum computing research highlighted in the provided information focus on **ethical and societal implications**, as technical challenges (e.g., hardware limitations, error correction) are not addressed. Here’s a summary of the ethical challenges:  \n",
      "\n",
      "1. **Unstructured Ethical Research**: There is a lack of systematic study into the ethical consequences of quantum technologies, despite their potential for paradigm-shifting computational power.  \n",
      "2. **Unique Ethical Consequences**: Quantum information processing introduces distinct ethical challenges, such as fairness constraints in quantum\n",
      "... (Stopping stream after 1000 words)\n"
     ]
    }
   ],
   "source": [
    "# Streaming the chain - first 1000 words only\n",
    "max_words_to_display = 1000\n",
    "words_displayed = 0\n",
    "\n",
    "try:\n",
    "    relevant_papers = arxiv_retriever.invoke(query)\n",
    "    relevant_info = \"\\n\".join([paper.page_content for paper in relevant_papers])\n",
    "    response = chain.stream({\"query\": query, \"relevant_info\": relevant_info})   \n",
    "    for chunk in response:\n",
    "        words_in_chunk = len(chunk.content.split())\n",
    "        if words_displayed + words_in_chunk > max_words_to_display:\n",
    "            print(\"\\n... (Stopping stream after 1000 words)\")\n",
    "            break\n",
    "        print(chunk.content, end=\"\", flush=True)\n",
    "        words_displayed += words_in_chunk\n",
    "\n",
    "except Exception as e:\n",
    "    print(f\"Error processing Arxiv query: {e}\")"
   ]
  }
 ],
 "metadata": {
  "kernelspec": {
   "display_name": "Python 3",
   "language": "python",
   "name": "python3"
  },
  "language_info": {
   "codemirror_mode": {
    "name": "ipython",
    "version": 3
   },
   "file_extension": ".py",
   "mimetype": "text/x-python",
   "name": "python",
   "nbconvert_exporter": "python",
   "pygments_lexer": "ipython3",
   "version": "3.11.9"
  }
 },
 "nbformat": 4,
 "nbformat_minor": 2
}
